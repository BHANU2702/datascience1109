{
 "cells": [
  {
   "cell_type": "code",
   "execution_count": 2,
   "id": "a4f08ba2",
   "metadata": {},
   "outputs": [],
   "source": [
    "from  bs4 import BeautifulSoup\n",
    "import requests\n",
    "import pandas as pd"
   ]
  },
  {
   "cell_type": "markdown",
   "id": "915d190c",
   "metadata": {},
   "source": [
    "Write a python program to display IMDB’s Top rated 100 Indian movies’ data\n",
    "https://www.imdb.com/list/ls056092300/ (i.e. name, rating, year ofrelease) and make data frame."
   ]
  },
  {
   "cell_type": "code",
   "execution_count": 10,
   "id": "56146c49",
   "metadata": {},
   "outputs": [
    {
     "data": {
      "text/plain": [
       "<Response [403]>"
      ]
     },
     "execution_count": 10,
     "metadata": {},
     "output_type": "execute_result"
    }
   ],
   "source": [
    "page=requests.get( 'https://www.imdb.com/list/ls056092300/')\n",
    "page"
   ]
  },
  {
   "cell_type": "code",
   "execution_count": null,
   "id": "6ffd6a4e",
   "metadata": {},
   "outputs": [],
   "source": [
    "soup=BeautifulSoup(page.content)\n",
    "soup"
   ]
  },
  {
   "cell_type": "code",
   "execution_count": 8,
   "id": "09202cb3",
   "metadata": {},
   "outputs": [],
   "source": [
    "movie_name=[]\n",
    "for name in soup.find_all('div',class_=\"lister-item-header\"):\n",
    "    movie_name.append(name.text)\n",
    "    \n",
    "    \n",
    "rating=[]\n",
    "for i in soup.find_all('div',class_=\"ipl-rating-star small\"):\n",
    "    rating.append(i.text)\n",
    "\n",
    "year_reas=[]\n",
    "for year in soup.find_all('div',class_=\"lister-item-year text-muted unbold\"):\n",
    "    year_reas.append(year.text)    \n",
    "\n",
    "    "
   ]
  },
  {
   "cell_type": "code",
   "execution_count": 9,
   "id": "248bfb9b",
   "metadata": {},
   "outputs": [
    {
     "data": {
      "text/plain": [
       "[]"
      ]
     },
     "execution_count": 9,
     "metadata": {},
     "output_type": "execute_result"
    }
   ],
   "source": [
    "movie_name\n",
    "rating\n",
    "year_reas"
   ]
  },
  {
   "cell_type": "code",
   "execution_count": 10,
   "id": "e3504ac1",
   "metadata": {},
   "outputs": [
    {
     "data": {
      "text/html": [
       "<div>\n",
       "<style scoped>\n",
       "    .dataframe tbody tr th:only-of-type {\n",
       "        vertical-align: middle;\n",
       "    }\n",
       "\n",
       "    .dataframe tbody tr th {\n",
       "        vertical-align: top;\n",
       "    }\n",
       "\n",
       "    .dataframe thead th {\n",
       "        text-align: right;\n",
       "    }\n",
       "</style>\n",
       "<table border=\"1\" class=\"dataframe\">\n",
       "  <thead>\n",
       "    <tr style=\"text-align: right;\">\n",
       "      <th></th>\n",
       "      <th>Name</th>\n",
       "      <th>Rating</th>\n",
       "      <th>Year Of Release</th>\n",
       "    </tr>\n",
       "  </thead>\n",
       "  <tbody>\n",
       "  </tbody>\n",
       "</table>\n",
       "</div>"
      ],
      "text/plain": [
       "Empty DataFrame\n",
       "Columns: [Name, Rating, Year Of Release]\n",
       "Index: []"
      ]
     },
     "execution_count": 10,
     "metadata": {},
     "output_type": "execute_result"
    }
   ],
   "source": [
    "df=pd.DataFrame({'Name':movie_name,'Rating':rating,'Year Of Release':year_reas})\n",
    "df"
   ]
  },
  {
   "cell_type": "markdown",
   "id": "31c96b35",
   "metadata": {},
   "source": [
    "Write a python program to scrape details of all the posts from https://www.patreon.com/coreyms .Scrape the\n",
    "heading, date, content and the likes for the video from the link for the youtube video from the post."
   ]
  },
  {
   "cell_type": "code",
   "execution_count": 3,
   "id": "0adad8f5",
   "metadata": {},
   "outputs": [
    {
     "data": {
      "text/plain": [
       "<Response [200]>"
      ]
     },
     "execution_count": 3,
     "metadata": {},
     "output_type": "execute_result"
    }
   ],
   "source": [
    "page7=requests.get(' https://www.patreon.com/coreyms')\n",
    "page7"
   ]
  },
  {
   "cell_type": "code",
   "execution_count": null,
   "id": "09380005",
   "metadata": {},
   "outputs": [],
   "source": [
    "soup1=BeautifulSoup(page7.content)\n",
    "soup1"
   ]
  },
  {
   "cell_type": "code",
   "execution_count": 10,
   "id": "28c58112",
   "metadata": {},
   "outputs": [],
   "source": [
    "head_name=[]\n",
    "for name in soup1.find_all('div',class_=\"sc-bBHxTw iloeMK\"):\n",
    "    head_name.append(name.text)\n",
    "\n",
    "date=[]\n",
    "for date1 in soup1.find_all('div',class_=\"sc-lgu5zg-0 dXpjXs\"):\n",
    "    date.append(date1.text)\n",
    "\n",
    "content=[]\n",
    "for con in soup1.find_all('div',class_=\"sc-cfnzm4-0 daxSFj\"):\n",
    "    content.append(con.text)    \n",
    "\n",
    "    \n",
    "likes=[]\n",
    "for like in soup1.find_all('div',class_=\"sc-dkPtRN kBeyDw\"):\n",
    "    likes.append(like.text)     \n"
   ]
  },
  {
   "cell_type": "code",
   "execution_count": 11,
   "id": "f90de110",
   "metadata": {},
   "outputs": [
    {
     "data": {
      "text/plain": [
       "[]"
      ]
     },
     "execution_count": 11,
     "metadata": {},
     "output_type": "execute_result"
    }
   ],
   "source": [
    "head_name\n",
    "date\n",
    "content\n",
    "likes"
   ]
  },
  {
   "cell_type": "markdown",
   "id": "8f494cc1",
   "metadata": {},
   "source": [
    "Write a python program to scrape house details from mentioned URL. It should include house title, location,\n",
    "area, EMI and price from https://www.nobroker.in/ .Enter three localities which are Indira Nagar, Jayanagar,\n",
    "Rajaji Nagar."
   ]
  },
  {
   "cell_type": "code",
   "execution_count": null,
   "id": "ac6abe28",
   "metadata": {},
   "outputs": [],
   "source": []
  },
  {
   "cell_type": "code",
   "execution_count": null,
   "id": "a9a797d9",
   "metadata": {},
   "outputs": [],
   "source": []
  },
  {
   "cell_type": "code",
   "execution_count": null,
   "id": "7683d777",
   "metadata": {},
   "outputs": [],
   "source": []
  },
  {
   "cell_type": "markdown",
   "id": "5ca4a55b",
   "metadata": {},
   "source": [
    "Write a python program to scrape first 10 product details which include product name , price , Image URL from\n",
    "https://www.bewakoof.com/bestseller?sort=popular ."
   ]
  },
  {
   "cell_type": "code",
   "execution_count": null,
   "id": "5eb2e7e3",
   "metadata": {},
   "outputs": [],
   "source": []
  },
  {
   "cell_type": "code",
   "execution_count": null,
   "id": "698500c5",
   "metadata": {},
   "outputs": [],
   "source": []
  },
  {
   "cell_type": "markdown",
   "id": "38fdab38",
   "metadata": {},
   "source": [
    "Please visit https://www.cnbc.com/world/?region=world and scrapa)\n",
    "headings\n",
    "b) date\n",
    "c) News link\n"
   ]
  },
  {
   "cell_type": "code",
   "execution_count": null,
   "id": "d8e5d910",
   "metadata": {},
   "outputs": [],
   "source": []
  },
  {
   "cell_type": "code",
   "execution_count": null,
   "id": "dd5b9623",
   "metadata": {},
   "outputs": [],
   "source": []
  },
  {
   "cell_type": "markdown",
   "id": "9c7c465c",
   "metadata": {},
   "source": [
    "6) Please visit https://www.keaipublishing.com/en/journals/artificial-intelligence-in-agriculture/most-downloadedarticles/\n",
    "and scrapa)\n",
    "Paper title\n",
    "b) date\n",
    "c) Author"
   ]
  },
  {
   "cell_type": "code",
   "execution_count": null,
   "id": "a0a34fd1",
   "metadata": {},
   "outputs": [],
   "source": []
  }
 ],
 "metadata": {
  "kernelspec": {
   "display_name": "Python 3 (ipykernel)",
   "language": "python",
   "name": "python3"
  },
  "language_info": {
   "codemirror_mode": {
    "name": "ipython",
    "version": 3
   },
   "file_extension": ".py",
   "mimetype": "text/x-python",
   "name": "python",
   "nbconvert_exporter": "python",
   "pygments_lexer": "ipython3",
   "version": "3.11.5"
  }
 },
 "nbformat": 4,
 "nbformat_minor": 5
}
