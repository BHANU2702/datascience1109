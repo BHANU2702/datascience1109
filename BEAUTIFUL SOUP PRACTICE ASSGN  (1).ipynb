{
 "cells": [
  {
   "cell_type": "code",
   "execution_count": 54,
   "id": "c31a333a",
   "metadata": {},
   "outputs": [
    {
     "name": "stdout",
     "output_type": "stream",
     "text": [
      "Requirement already satisfied: bs4 in c:\\users\\bhawn\\anaconda3\\lib\\site-packages (0.0.2)\n",
      "Requirement already satisfied: beautifulsoup4 in c:\\users\\bhawn\\anaconda3\\lib\\site-packages (from bs4) (4.12.2)\n",
      "Requirement already satisfied: soupsieve>1.2 in c:\\users\\bhawn\\anaconda3\\lib\\site-packages (from beautifulsoup4->bs4) (2.4)\n",
      "Requirement already satisfied: requests in c:\\users\\bhawn\\anaconda3\\lib\\site-packages (2.31.0)\n",
      "Requirement already satisfied: charset-normalizer<4,>=2 in c:\\users\\bhawn\\anaconda3\\lib\\site-packages (from requests) (2.0.4)\n",
      "Requirement already satisfied: idna<4,>=2.5 in c:\\users\\bhawn\\anaconda3\\lib\\site-packages (from requests) (3.4)\n",
      "Requirement already satisfied: urllib3<3,>=1.21.1 in c:\\users\\bhawn\\anaconda3\\lib\\site-packages (from requests) (1.26.16)\n",
      "Requirement already satisfied: certifi>=2017.4.17 in c:\\users\\bhawn\\anaconda3\\lib\\site-packages (from requests) (2023.7.22)\n"
     ]
    }
   ],
   "source": [
    "!pip install bs4\n",
    "!pip install requests"
   ]
  },
  {
   "cell_type": "code",
   "execution_count": 55,
   "id": "3f15713d",
   "metadata": {},
   "outputs": [],
   "source": [
    "from  bs4 import BeautifulSoup\n",
    "import requests\n",
    "import pandas as pd"
   ]
  },
  {
   "cell_type": "markdown",
   "id": "e960e5f3",
   "metadata": {},
   "source": [
    "Write a python program to display all the header tags from wikipedia.org."
   ]
  },
  {
   "cell_type": "code",
   "execution_count": 56,
   "id": "f6922ba4",
   "metadata": {},
   "outputs": [
    {
     "data": {
      "text/plain": [
       "<Response [200]>"
      ]
     },
     "execution_count": 56,
     "metadata": {},
     "output_type": "execute_result"
    }
   ],
   "source": [
    "page=requests.get('https://www.wikipedia.org/')\n",
    "page"
   ]
  },
  {
   "cell_type": "code",
   "execution_count": null,
   "id": "02a8fa4f",
   "metadata": {},
   "outputs": [],
   "source": [
    "soup=BeautifulSoup(page.content)\n",
    "soup"
   ]
  },
  {
   "cell_type": "code",
   "execution_count": 58,
   "id": "f2985065",
   "metadata": {},
   "outputs": [
    {
     "data": {
      "text/plain": [
       "[]"
      ]
     },
     "execution_count": 58,
     "metadata": {},
     "output_type": "execute_result"
    }
   ],
   "source": [
    "header_tags=[]\n",
    "for i in soup.find_all('div',class_=\"central-featured\"):\n",
    "    header_tags.append(i.text)\n",
    "    \n",
    "header_tags    \n",
    "    "
   ]
  },
  {
   "cell_type": "markdown",
   "id": "5ba18e18",
   "metadata": {},
   "source": [
    "Write a python program to display IMDB’s Top rated 100 movies’ data (i.e. name, rating, year of release) and make data frame.\n",
    "https://m.imdb.com/chart/top/"
   ]
  },
  {
   "cell_type": "code",
   "execution_count": 59,
   "id": "cb934d3a",
   "metadata": {},
   "outputs": [
    {
     "data": {
      "text/plain": [
       "<Response [403]>"
      ]
     },
     "execution_count": 59,
     "metadata": {},
     "output_type": "execute_result"
    }
   ],
   "source": [
    "page=requests.get('https://www.imdb.com/search/title/?groups=top_100&sort=user_rating,desc')\n",
    "page"
   ]
  },
  {
   "cell_type": "code",
   "execution_count": 60,
   "id": "173f48db",
   "metadata": {},
   "outputs": [
    {
     "data": {
      "text/plain": [
       "<html>\n",
       "<head><title>403 Forbidden</title></head>\n",
       "<body>\n",
       "<center><h1>403 Forbidden</h1></center>\n",
       "</body>\n",
       "</html>"
      ]
     },
     "execution_count": 60,
     "metadata": {},
     "output_type": "execute_result"
    }
   ],
   "source": [
    "soup=BeautifulSoup(page.content)\n",
    "soup"
   ]
  },
  {
   "cell_type": "code",
   "execution_count": 61,
   "id": "6757f0a0",
   "metadata": {},
   "outputs": [],
   "source": [
    "imdb=[]\n",
    "for i in soup.find_all('div',class_=\"ipc-title__text\"):\n",
    "    imdb.append(i.text)\n",
    "\n"
   ]
  },
  {
   "cell_type": "code",
   "execution_count": 62,
   "id": "de24e674",
   "metadata": {},
   "outputs": [
    {
     "data": {
      "text/plain": [
       "[]"
      ]
     },
     "execution_count": 62,
     "metadata": {},
     "output_type": "execute_result"
    }
   ],
   "source": [
    "imdb"
   ]
  },
  {
   "cell_type": "markdown",
   "id": "44f57db1",
   "metadata": {},
   "source": [
    "Write a python program to scrape mentioned details from dineout.co.in : i) Restaurant name\n",
    "ii) Cuisine iii) Location iv) Ratings v) Image URL.\n"
   ]
  },
  {
   "cell_type": "code",
   "execution_count": 63,
   "id": "92701263",
   "metadata": {},
   "outputs": [
    {
     "data": {
      "text/plain": [
       "<Response [200]>"
      ]
     },
     "execution_count": 63,
     "metadata": {},
     "output_type": "execute_result"
    }
   ],
   "source": [
    "page=requests.get('https://www.dineout.co.in/')\n",
    "page"
   ]
  },
  {
   "cell_type": "code",
   "execution_count": null,
   "id": "c2d6a909",
   "metadata": {},
   "outputs": [],
   "source": [
    "soup=BeautifulSoup(page.content)\n",
    "soup"
   ]
  },
  {
   "cell_type": "code",
   "execution_count": 65,
   "id": "63ca2edf",
   "metadata": {},
   "outputs": [],
   "source": [
    "res_name=[]\n",
    "for name in soup.find_all('div',class_=\"restnt-info cursor\"):\n",
    "    res_name.append(name.text)\n",
    "\n",
    "cuisn_name=[]\n",
    "for cuisine in soup.find_all('div',):\n",
    "    cuisn_name.append(cuisine.text)\n",
    "    \n",
    "loc_name=[]\n",
    "for location in soup.find_all('div',class_=\"react-multi-carousel-list  \"):\n",
    "    loc_name.append(location.text)\n",
    "    \n",
    "ratings_name=[]\n",
    "for rating in soup.find_all('div',class_=\"kGUdK _1oTbl\"):\n",
    "    ratings_name.append(rating.text)\n",
    "    \n",
    "image_name=[]\n",
    "for image in soup.find_all('img',class_=\"_2DVRC\"):\n",
    "    image_name.append(image['data-src'])    "
   ]
  },
  {
   "cell_type": "code",
   "execution_count": 66,
   "id": "4eb7f40b",
   "metadata": {},
   "outputs": [
    {
     "data": {
      "text/plain": [
       "[]"
      ]
     },
     "execution_count": 66,
     "metadata": {},
     "output_type": "execute_result"
    }
   ],
   "source": [
    "res_name\n",
    "cuisn_name\n",
    "loc_name\n",
    "ratings_name\n",
    "image_name"
   ]
  },
  {
   "cell_type": "markdown",
   "id": "4bf9ad2d",
   "metadata": {},
   "source": [
    "Write s python program to display list of respected former presidents of India (i.e.\n",
    "Name , Term of office) from https://presidentofindia.nic.in/former-presidents\n",
    "and make data frame."
   ]
  },
  {
   "cell_type": "code",
   "execution_count": 74,
   "id": "747bb86e",
   "metadata": {},
   "outputs": [
    {
     "data": {
      "text/plain": [
       "<Response [200]>"
      ]
     },
     "execution_count": 74,
     "metadata": {},
     "output_type": "execute_result"
    }
   ],
   "source": [
    "page=requests.get('https://presidentofindia.nic.in/former-presidents')\n",
    "page"
   ]
  },
  {
   "cell_type": "code",
   "execution_count": null,
   "id": "b0c686a8",
   "metadata": {},
   "outputs": [],
   "source": [
    "soup=BeautifulSoup(page.content)\n",
    "soup"
   ]
  },
  {
   "cell_type": "code",
   "execution_count": 76,
   "id": "3b474c51",
   "metadata": {},
   "outputs": [],
   "source": [
    "import pandas as pd"
   ]
  },
  {
   "cell_type": "code",
   "execution_count": 70,
   "id": "416152f5",
   "metadata": {},
   "outputs": [
    {
     "data": {
      "text/plain": [
       "['\\nShri Ram Nath Kovind\\n14th President of India\\n',\n",
       " '\\nShri Pranab Mukherjee\\n13th President of India\\n',\n",
       " '\\nSmt Pratibha Devisingh Patil\\n12th President of India\\n',\n",
       " '\\nDR. A.P.J. Abdul Kalam\\n11th President of India\\n',\n",
       " '\\nShri K. R. Narayanan\\n10th President of India\\n',\n",
       " '\\nDr Shankar Dayal Sharma\\n9th  President of India\\n',\n",
       " '\\nShri R Venkataraman\\n8th President of India\\n',\n",
       " '\\nGiani Zail Singh\\n7th President of India\\n',\n",
       " '\\nShri Neelam Sanjiva Reddy\\n6th President of India\\n',\n",
       " '\\nDr. Fakhruddin Ali Ahmed\\n5th President of India\\n',\n",
       " '\\nShri Varahagiri Venkata Giri\\n4th President of India\\n',\n",
       " '\\nDr. Zakir Husain\\n3rd President of India\\n',\n",
       " '\\nDr. Sarvepalli Radhakrishnan\\n2nd President of India\\n',\n",
       " '\\nDr. Rajendra Prasad\\n1st President of India\\n']"
      ]
     },
     "execution_count": 70,
     "metadata": {},
     "output_type": "execute_result"
    }
   ],
   "source": [
    "pres_name=[]\n",
    "for i in soup.find_all('div',class_=\"desc-sec\"):\n",
    "    pres_name.append(i.text)\n",
    "    \n",
    "pres_name    \n"
   ]
  },
  {
   "cell_type": "code",
   "execution_count": 71,
   "id": "035be0b9",
   "metadata": {},
   "outputs": [],
   "source": [
    "df=pd.DataFrame({'Name':pres_name})"
   ]
  },
  {
   "cell_type": "code",
   "execution_count": 73,
   "id": "da991c03",
   "metadata": {},
   "outputs": [
    {
     "data": {
      "text/html": [
       "<div>\n",
       "<style scoped>\n",
       "    .dataframe tbody tr th:only-of-type {\n",
       "        vertical-align: middle;\n",
       "    }\n",
       "\n",
       "    .dataframe tbody tr th {\n",
       "        vertical-align: top;\n",
       "    }\n",
       "\n",
       "    .dataframe thead th {\n",
       "        text-align: right;\n",
       "    }\n",
       "</style>\n",
       "<table border=\"1\" class=\"dataframe\">\n",
       "  <thead>\n",
       "    <tr style=\"text-align: right;\">\n",
       "      <th></th>\n",
       "      <th>Name</th>\n",
       "    </tr>\n",
       "  </thead>\n",
       "  <tbody>\n",
       "    <tr>\n",
       "      <th>0</th>\n",
       "      <td>\\nShri Ram Nath Kovind\\n14th President of India\\n</td>\n",
       "    </tr>\n",
       "    <tr>\n",
       "      <th>1</th>\n",
       "      <td>\\nShri Pranab Mukherjee\\n13th President of Ind...</td>\n",
       "    </tr>\n",
       "    <tr>\n",
       "      <th>2</th>\n",
       "      <td>\\nSmt Pratibha Devisingh Patil\\n12th President...</td>\n",
       "    </tr>\n",
       "    <tr>\n",
       "      <th>3</th>\n",
       "      <td>\\nDR. A.P.J. Abdul Kalam\\n11th President of In...</td>\n",
       "    </tr>\n",
       "    <tr>\n",
       "      <th>4</th>\n",
       "      <td>\\nShri K. R. Narayanan\\n10th President of India\\n</td>\n",
       "    </tr>\n",
       "    <tr>\n",
       "      <th>5</th>\n",
       "      <td>\\nDr Shankar Dayal Sharma\\n9th  President of I...</td>\n",
       "    </tr>\n",
       "    <tr>\n",
       "      <th>6</th>\n",
       "      <td>\\nShri R Venkataraman\\n8th President of India\\n</td>\n",
       "    </tr>\n",
       "    <tr>\n",
       "      <th>7</th>\n",
       "      <td>\\nGiani Zail Singh\\n7th President of India\\n</td>\n",
       "    </tr>\n",
       "    <tr>\n",
       "      <th>8</th>\n",
       "      <td>\\nShri Neelam Sanjiva Reddy\\n6th President of ...</td>\n",
       "    </tr>\n",
       "    <tr>\n",
       "      <th>9</th>\n",
       "      <td>\\nDr. Fakhruddin Ali Ahmed\\n5th President of I...</td>\n",
       "    </tr>\n",
       "    <tr>\n",
       "      <th>10</th>\n",
       "      <td>\\nShri Varahagiri Venkata Giri\\n4th President ...</td>\n",
       "    </tr>\n",
       "    <tr>\n",
       "      <th>11</th>\n",
       "      <td>\\nDr. Zakir Husain\\n3rd President of India\\n</td>\n",
       "    </tr>\n",
       "    <tr>\n",
       "      <th>12</th>\n",
       "      <td>\\nDr. Sarvepalli Radhakrishnan\\n2nd President ...</td>\n",
       "    </tr>\n",
       "    <tr>\n",
       "      <th>13</th>\n",
       "      <td>\\nDr. Rajendra Prasad\\n1st President of India\\n</td>\n",
       "    </tr>\n",
       "  </tbody>\n",
       "</table>\n",
       "</div>"
      ],
      "text/plain": [
       "                                                 Name\n",
       "0   \\nShri Ram Nath Kovind\\n14th President of India\\n\n",
       "1   \\nShri Pranab Mukherjee\\n13th President of Ind...\n",
       "2   \\nSmt Pratibha Devisingh Patil\\n12th President...\n",
       "3   \\nDR. A.P.J. Abdul Kalam\\n11th President of In...\n",
       "4   \\nShri K. R. Narayanan\\n10th President of India\\n\n",
       "5   \\nDr Shankar Dayal Sharma\\n9th  President of I...\n",
       "6     \\nShri R Venkataraman\\n8th President of India\\n\n",
       "7        \\nGiani Zail Singh\\n7th President of India\\n\n",
       "8   \\nShri Neelam Sanjiva Reddy\\n6th President of ...\n",
       "9   \\nDr. Fakhruddin Ali Ahmed\\n5th President of I...\n",
       "10  \\nShri Varahagiri Venkata Giri\\n4th President ...\n",
       "11       \\nDr. Zakir Husain\\n3rd President of India\\n\n",
       "12  \\nDr. Sarvepalli Radhakrishnan\\n2nd President ...\n",
       "13    \\nDr. Rajendra Prasad\\n1st President of India\\n"
      ]
     },
     "execution_count": 73,
     "metadata": {},
     "output_type": "execute_result"
    }
   ],
   "source": [
    "df"
   ]
  },
  {
   "cell_type": "code",
   "execution_count": null,
   "id": "bd1fbe6a",
   "metadata": {},
   "outputs": [],
   "source": []
  }
 ],
 "metadata": {
  "kernelspec": {
   "display_name": "Python 3 (ipykernel)",
   "language": "python",
   "name": "python3"
  },
  "language_info": {
   "codemirror_mode": {
    "name": "ipython",
    "version": 3
   },
   "file_extension": ".py",
   "mimetype": "text/x-python",
   "name": "python",
   "nbconvert_exporter": "python",
   "pygments_lexer": "ipython3",
   "version": "3.11.5"
  },
  "widgets": {
   "application/vnd.jupyter.widget-state+json": {
    "state": {},
    "version_major": 2,
    "version_minor": 0
   }
  }
 },
 "nbformat": 4,
 "nbformat_minor": 5
}
