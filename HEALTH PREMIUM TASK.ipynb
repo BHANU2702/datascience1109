{
 "cells": [
  {
   "cell_type": "code",
   "execution_count": 4,
   "id": "32b1e403",
   "metadata": {},
   "outputs": [],
   "source": [
    "def health_premium_quote(gender,dateofbirth,habit):\n",
    "    if gender==\"Male\":\n",
    "        if 1990<dateofbirth<=2000:\n",
    "            if habit=='Smoker':\n",
    "                print(\"Your annual premium is RS 35000\")\n",
    "            elif habit==\"Non Smoker\":\n",
    "                print(\"Your annual premium is RS 35000 but you are eligible for 10% discount on premium\")\n",
    "                Discounted_Premium = 35000-((10/100) * 35000)\n",
    "                print (\"Your final discounted premium is Rs\",Discounted_Premium)\n",
    "        elif 1970<dateofbirth<=1990:\n",
    "            if habit=='Smoker':\n",
    "                print(\"Your annual premium is RS 40000\")\n",
    "            elif habit==\"Non Smoker\":\n",
    "                print(\"Your annual premium is RS 40000 but you are eligible for 5% discount on premium\")\n",
    "                Discounted_Premium = 40000-((5/100) * 40000)\n",
    "                print (\"Your final discounted premium is Rs\",Discounted_Premium) \n",
    "        else:\n",
    "            print(\"We donot give health insurance to persons born before 1970\")\n",
    "    elif gender=='Female':\n",
    "        if 1990<dateofbirth<=2000:\n",
    "            if habit=='Smoker':\n",
    "                print(\"Your annual premium is RS 30000\")\n",
    "            elif habit==\"Non Smoker\":\n",
    "                print(\"Your annual premium is RS 30000 but you are eligible for 10% discount on premium\")\n",
    "                Discounted_Premium = 30000-((10/100) * 30000)\n",
    "                print (\"Your final discounted premium is Rs\",Discounted_Premium)\n",
    "        elif 1970<dateofbirth<=1990:\n",
    "            if habit=='Smoker':\n",
    "                print(\"Your annual premium is RS 35000\")\n",
    "            elif habit==\"Non Smoker\":\n",
    "                Discounted_Premium = 35000-((5/100) * 35000)\n",
    "                print (\"Your final discounted premium is Rs\",Discounted_Premium)\n",
    "        else:\n",
    "            print(\"We donot give health insurance to persons born before 1970\")        \n",
    "                \n",
    "        "
   ]
  },
  {
   "cell_type": "code",
   "execution_count": 6,
   "id": "ecc1cedb",
   "metadata": {},
   "outputs": [
    {
     "name": "stdout",
     "output_type": "stream",
     "text": [
      "We donot give health insurance to persons born before 1970\n"
     ]
    }
   ],
   "source": [
    "health_premium_quote('Male',1968,'Non Smoker')"
   ]
  },
  {
   "cell_type": "code",
   "execution_count": null,
   "id": "1e79bf0a",
   "metadata": {},
   "outputs": [],
   "source": []
  }
 ],
 "metadata": {
  "kernelspec": {
   "display_name": "Python 3 (ipykernel)",
   "language": "python",
   "name": "python3"
  },
  "language_info": {
   "codemirror_mode": {
    "name": "ipython",
    "version": 3
   },
   "file_extension": ".py",
   "mimetype": "text/x-python",
   "name": "python",
   "nbconvert_exporter": "python",
   "pygments_lexer": "ipython3",
   "version": "3.11.5"
  }
 },
 "nbformat": 4,
 "nbformat_minor": 5
}
